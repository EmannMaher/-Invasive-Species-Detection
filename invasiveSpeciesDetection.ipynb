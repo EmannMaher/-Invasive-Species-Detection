{
  "nbformat": 4,
  "nbformat_minor": 0,
  "metadata": {
    "colab": {
      "provenance": [],
      "toc_visible": true,
      "gpuType": "T4"
    },
    "kernelspec": {
      "name": "python3",
      "display_name": "Python 3"
    },
    "language_info": {
      "name": "python"
    },
    "accelerator": "GPU"
  },
  "cells": [
    {
      "cell_type": "code",
      "execution_count": null,
      "metadata": {
        "colab": {
          "base_uri": "https://localhost:8080/",
          "height": 355
        },
        "id": "OJGFH2yMVIiX",
        "outputId": "092de6bb-940d-4f9e-83f3-8800222e7128"
      },
      "outputs": [
        {
          "output_type": "error",
          "ename": "MessageError",
          "evalue": "Error: credential propagation was unsuccessful",
          "traceback": [
            "\u001b[0;31m---------------------------------------------------------------------------\u001b[0m",
            "\u001b[0;31mMessageError\u001b[0m                              Traceback (most recent call last)",
            "\u001b[0;32m<ipython-input-2-ea7cdf27bd05>\u001b[0m in \u001b[0;36m<cell line: 14>\u001b[0;34m()\u001b[0m\n\u001b[1;32m     12\u001b[0m \u001b[0;32mfrom\u001b[0m \u001b[0mkeras\u001b[0m\u001b[0;34m.\u001b[0m\u001b[0mcallbacks\u001b[0m \u001b[0;32mimport\u001b[0m \u001b[0mModelCheckpoint\u001b[0m\u001b[0;34m,\u001b[0m \u001b[0mEarlyStopping\u001b[0m\u001b[0;34m,\u001b[0m \u001b[0mReduceLROnPlateau\u001b[0m\u001b[0;34m\u001b[0m\u001b[0;34m\u001b[0m\u001b[0m\n\u001b[1;32m     13\u001b[0m \u001b[0;32mfrom\u001b[0m \u001b[0mgoogle\u001b[0m\u001b[0;34m.\u001b[0m\u001b[0mcolab\u001b[0m \u001b[0;32mimport\u001b[0m \u001b[0mdrive\u001b[0m\u001b[0;34m\u001b[0m\u001b[0;34m\u001b[0m\u001b[0m\n\u001b[0;32m---> 14\u001b[0;31m \u001b[0mdrive\u001b[0m\u001b[0;34m.\u001b[0m\u001b[0mmount\u001b[0m\u001b[0;34m(\u001b[0m\u001b[0;34m'/content/gdrive'\u001b[0m\u001b[0;34m)\u001b[0m\u001b[0;34m\u001b[0m\u001b[0;34m\u001b[0m\u001b[0m\n\u001b[0m",
            "\u001b[0;32m/usr/local/lib/python3.10/dist-packages/google/colab/drive.py\u001b[0m in \u001b[0;36mmount\u001b[0;34m(mountpoint, force_remount, timeout_ms, readonly)\u001b[0m\n\u001b[1;32m     98\u001b[0m \u001b[0;32mdef\u001b[0m \u001b[0mmount\u001b[0m\u001b[0;34m(\u001b[0m\u001b[0mmountpoint\u001b[0m\u001b[0;34m,\u001b[0m \u001b[0mforce_remount\u001b[0m\u001b[0;34m=\u001b[0m\u001b[0;32mFalse\u001b[0m\u001b[0;34m,\u001b[0m \u001b[0mtimeout_ms\u001b[0m\u001b[0;34m=\u001b[0m\u001b[0;36m120000\u001b[0m\u001b[0;34m,\u001b[0m \u001b[0mreadonly\u001b[0m\u001b[0;34m=\u001b[0m\u001b[0;32mFalse\u001b[0m\u001b[0;34m)\u001b[0m\u001b[0;34m:\u001b[0m\u001b[0;34m\u001b[0m\u001b[0;34m\u001b[0m\u001b[0m\n\u001b[1;32m     99\u001b[0m   \u001b[0;34m\"\"\"Mount your Google Drive at the specified mountpoint path.\"\"\"\u001b[0m\u001b[0;34m\u001b[0m\u001b[0;34m\u001b[0m\u001b[0m\n\u001b[0;32m--> 100\u001b[0;31m   return _mount(\n\u001b[0m\u001b[1;32m    101\u001b[0m       \u001b[0mmountpoint\u001b[0m\u001b[0;34m,\u001b[0m\u001b[0;34m\u001b[0m\u001b[0;34m\u001b[0m\u001b[0m\n\u001b[1;32m    102\u001b[0m       \u001b[0mforce_remount\u001b[0m\u001b[0;34m=\u001b[0m\u001b[0mforce_remount\u001b[0m\u001b[0;34m,\u001b[0m\u001b[0;34m\u001b[0m\u001b[0;34m\u001b[0m\u001b[0m\n",
            "\u001b[0;32m/usr/local/lib/python3.10/dist-packages/google/colab/drive.py\u001b[0m in \u001b[0;36m_mount\u001b[0;34m(mountpoint, force_remount, timeout_ms, ephemeral, readonly)\u001b[0m\n\u001b[1;32m    127\u001b[0m   )\n\u001b[1;32m    128\u001b[0m   \u001b[0;32mif\u001b[0m \u001b[0mephemeral\u001b[0m\u001b[0;34m:\u001b[0m\u001b[0;34m\u001b[0m\u001b[0;34m\u001b[0m\u001b[0m\n\u001b[0;32m--> 129\u001b[0;31m     _message.blocking_request(\n\u001b[0m\u001b[1;32m    130\u001b[0m         \u001b[0;34m'request_auth'\u001b[0m\u001b[0;34m,\u001b[0m \u001b[0mrequest\u001b[0m\u001b[0;34m=\u001b[0m\u001b[0;34m{\u001b[0m\u001b[0;34m'authType'\u001b[0m\u001b[0;34m:\u001b[0m \u001b[0;34m'dfs_ephemeral'\u001b[0m\u001b[0;34m}\u001b[0m\u001b[0;34m,\u001b[0m \u001b[0mtimeout_sec\u001b[0m\u001b[0;34m=\u001b[0m\u001b[0;32mNone\u001b[0m\u001b[0;34m\u001b[0m\u001b[0;34m\u001b[0m\u001b[0m\n\u001b[1;32m    131\u001b[0m     )\n",
            "\u001b[0;32m/usr/local/lib/python3.10/dist-packages/google/colab/_message.py\u001b[0m in \u001b[0;36mblocking_request\u001b[0;34m(request_type, request, timeout_sec, parent)\u001b[0m\n\u001b[1;32m    174\u001b[0m       \u001b[0mrequest_type\u001b[0m\u001b[0;34m,\u001b[0m \u001b[0mrequest\u001b[0m\u001b[0;34m,\u001b[0m \u001b[0mparent\u001b[0m\u001b[0;34m=\u001b[0m\u001b[0mparent\u001b[0m\u001b[0;34m,\u001b[0m \u001b[0mexpect_reply\u001b[0m\u001b[0;34m=\u001b[0m\u001b[0;32mTrue\u001b[0m\u001b[0;34m\u001b[0m\u001b[0;34m\u001b[0m\u001b[0m\n\u001b[1;32m    175\u001b[0m   )\n\u001b[0;32m--> 176\u001b[0;31m   \u001b[0;32mreturn\u001b[0m \u001b[0mread_reply_from_input\u001b[0m\u001b[0;34m(\u001b[0m\u001b[0mrequest_id\u001b[0m\u001b[0;34m,\u001b[0m \u001b[0mtimeout_sec\u001b[0m\u001b[0;34m)\u001b[0m\u001b[0;34m\u001b[0m\u001b[0;34m\u001b[0m\u001b[0m\n\u001b[0m",
            "\u001b[0;32m/usr/local/lib/python3.10/dist-packages/google/colab/_message.py\u001b[0m in \u001b[0;36mread_reply_from_input\u001b[0;34m(message_id, timeout_sec)\u001b[0m\n\u001b[1;32m    101\u001b[0m     ):\n\u001b[1;32m    102\u001b[0m       \u001b[0;32mif\u001b[0m \u001b[0;34m'error'\u001b[0m \u001b[0;32min\u001b[0m \u001b[0mreply\u001b[0m\u001b[0;34m:\u001b[0m\u001b[0;34m\u001b[0m\u001b[0;34m\u001b[0m\u001b[0m\n\u001b[0;32m--> 103\u001b[0;31m         \u001b[0;32mraise\u001b[0m \u001b[0mMessageError\u001b[0m\u001b[0;34m(\u001b[0m\u001b[0mreply\u001b[0m\u001b[0;34m[\u001b[0m\u001b[0;34m'error'\u001b[0m\u001b[0;34m]\u001b[0m\u001b[0;34m)\u001b[0m\u001b[0;34m\u001b[0m\u001b[0;34m\u001b[0m\u001b[0m\n\u001b[0m\u001b[1;32m    104\u001b[0m       \u001b[0;32mreturn\u001b[0m \u001b[0mreply\u001b[0m\u001b[0;34m.\u001b[0m\u001b[0mget\u001b[0m\u001b[0;34m(\u001b[0m\u001b[0;34m'data'\u001b[0m\u001b[0;34m,\u001b[0m \u001b[0;32mNone\u001b[0m\u001b[0;34m)\u001b[0m\u001b[0;34m\u001b[0m\u001b[0;34m\u001b[0m\u001b[0m\n\u001b[1;32m    105\u001b[0m \u001b[0;34m\u001b[0m\u001b[0m\n",
            "\u001b[0;31mMessageError\u001b[0m: Error: credential propagation was unsuccessful"
          ]
        }
      ],
      "source": [
        "import cv2\n",
        "import numpy as np\n",
        "import pandas as pd\n",
        "from sklearn.model_selection import KFold\n",
        "from sklearn import metrics\n",
        "import keras\n",
        "from keras.models import Model\n",
        "from keras.optimizers import Adam\n",
        "from keras.applications.inception_v3 import InceptionV3\n",
        "from keras.layers import Dense, Input, Flatten, Dropout, GlobalAveragePooling2D\n",
        "from tensorflow.keras.layers import BatchNormalization\n",
        "from keras.callbacks import ModelCheckpoint, EarlyStopping, ReduceLROnPlateau\n",
        "from google.colab import drive\n",
        "drive.mount('/content/gdrive')"
      ]
    },
    {
      "cell_type": "code",
      "source": [
        "path = \"/content/gdrive/My Drive/train/\"\n",
        "train_set = pd.read_csv('/content/gdrive/My Drive/train_labels.csv')\n",
        "train_label = np.array(train_set['invasive'].iloc[: ])\n",
        "train_files = []\n",
        "for i in range(len(train_set)):\n",
        "    train_files.append(path + str(int(train_set.iloc[i][0])) +'.jpg')\n",
        "train_set['name'] = train_files\n",
        "print(train_set.shape)\n",
        "train_set.head()"
      ],
      "metadata": {
        "colab": {
          "base_uri": "https://localhost:8080/",
          "height": 223
        },
        "id": "Zud0-reUhE19",
        "outputId": "0c29b07e-296f-4790-fed0-93f680d58a45"
      },
      "execution_count": null,
      "outputs": [
        {
          "output_type": "stream",
          "name": "stdout",
          "text": [
            "(2295, 2)\n"
          ]
        },
        {
          "output_type": "execute_result",
          "data": {
            "text/plain": [
              "                                   name  invasive\n",
              "0  /content/gdrive/My Drive/train/1.jpg         0\n",
              "1  /content/gdrive/My Drive/train/2.jpg         0\n",
              "2  /content/gdrive/My Drive/train/3.jpg         1\n",
              "3  /content/gdrive/My Drive/train/4.jpg         0\n",
              "4  /content/gdrive/My Drive/train/5.jpg         1"
            ],
            "text/html": [
              "\n",
              "  <div id=\"df-4c58ab92-81f8-4e47-8529-957548536f4a\" class=\"colab-df-container\">\n",
              "    <div>\n",
              "<style scoped>\n",
              "    .dataframe tbody tr th:only-of-type {\n",
              "        vertical-align: middle;\n",
              "    }\n",
              "\n",
              "    .dataframe tbody tr th {\n",
              "        vertical-align: top;\n",
              "    }\n",
              "\n",
              "    .dataframe thead th {\n",
              "        text-align: right;\n",
              "    }\n",
              "</style>\n",
              "<table border=\"1\" class=\"dataframe\">\n",
              "  <thead>\n",
              "    <tr style=\"text-align: right;\">\n",
              "      <th></th>\n",
              "      <th>name</th>\n",
              "      <th>invasive</th>\n",
              "    </tr>\n",
              "  </thead>\n",
              "  <tbody>\n",
              "    <tr>\n",
              "      <th>0</th>\n",
              "      <td>/content/gdrive/My Drive/train/1.jpg</td>\n",
              "      <td>0</td>\n",
              "    </tr>\n",
              "    <tr>\n",
              "      <th>1</th>\n",
              "      <td>/content/gdrive/My Drive/train/2.jpg</td>\n",
              "      <td>0</td>\n",
              "    </tr>\n",
              "    <tr>\n",
              "      <th>2</th>\n",
              "      <td>/content/gdrive/My Drive/train/3.jpg</td>\n",
              "      <td>1</td>\n",
              "    </tr>\n",
              "    <tr>\n",
              "      <th>3</th>\n",
              "      <td>/content/gdrive/My Drive/train/4.jpg</td>\n",
              "      <td>0</td>\n",
              "    </tr>\n",
              "    <tr>\n",
              "      <th>4</th>\n",
              "      <td>/content/gdrive/My Drive/train/5.jpg</td>\n",
              "      <td>1</td>\n",
              "    </tr>\n",
              "  </tbody>\n",
              "</table>\n",
              "</div>\n",
              "    <div class=\"colab-df-buttons\">\n",
              "\n",
              "  <div class=\"colab-df-container\">\n",
              "    <button class=\"colab-df-convert\" onclick=\"convertToInteractive('df-4c58ab92-81f8-4e47-8529-957548536f4a')\"\n",
              "            title=\"Convert this dataframe to an interactive table.\"\n",
              "            style=\"display:none;\">\n",
              "\n",
              "  <svg xmlns=\"http://www.w3.org/2000/svg\" height=\"24px\" viewBox=\"0 -960 960 960\">\n",
              "    <path d=\"M120-120v-720h720v720H120Zm60-500h600v-160H180v160Zm220 220h160v-160H400v160Zm0 220h160v-160H400v160ZM180-400h160v-160H180v160Zm440 0h160v-160H620v160ZM180-180h160v-160H180v160Zm440 0h160v-160H620v160Z\"/>\n",
              "  </svg>\n",
              "    </button>\n",
              "\n",
              "  <style>\n",
              "    .colab-df-container {\n",
              "      display:flex;\n",
              "      gap: 12px;\n",
              "    }\n",
              "\n",
              "    .colab-df-convert {\n",
              "      background-color: #E8F0FE;\n",
              "      border: none;\n",
              "      border-radius: 50%;\n",
              "      cursor: pointer;\n",
              "      display: none;\n",
              "      fill: #1967D2;\n",
              "      height: 32px;\n",
              "      padding: 0 0 0 0;\n",
              "      width: 32px;\n",
              "    }\n",
              "\n",
              "    .colab-df-convert:hover {\n",
              "      background-color: #E2EBFA;\n",
              "      box-shadow: 0px 1px 2px rgba(60, 64, 67, 0.3), 0px 1px 3px 1px rgba(60, 64, 67, 0.15);\n",
              "      fill: #174EA6;\n",
              "    }\n",
              "\n",
              "    .colab-df-buttons div {\n",
              "      margin-bottom: 4px;\n",
              "    }\n",
              "\n",
              "    [theme=dark] .colab-df-convert {\n",
              "      background-color: #3B4455;\n",
              "      fill: #D2E3FC;\n",
              "    }\n",
              "\n",
              "    [theme=dark] .colab-df-convert:hover {\n",
              "      background-color: #434B5C;\n",
              "      box-shadow: 0px 1px 3px 1px rgba(0, 0, 0, 0.15);\n",
              "      filter: drop-shadow(0px 1px 2px rgba(0, 0, 0, 0.3));\n",
              "      fill: #FFFFFF;\n",
              "    }\n",
              "  </style>\n",
              "\n",
              "    <script>\n",
              "      const buttonEl =\n",
              "        document.querySelector('#df-4c58ab92-81f8-4e47-8529-957548536f4a button.colab-df-convert');\n",
              "      buttonEl.style.display =\n",
              "        google.colab.kernel.accessAllowed ? 'block' : 'none';\n",
              "\n",
              "      async function convertToInteractive(key) {\n",
              "        const element = document.querySelector('#df-4c58ab92-81f8-4e47-8529-957548536f4a');\n",
              "        const dataTable =\n",
              "          await google.colab.kernel.invokeFunction('convertToInteractive',\n",
              "                                                    [key], {});\n",
              "        if (!dataTable) return;\n",
              "\n",
              "        const docLinkHtml = 'Like what you see? Visit the ' +\n",
              "          '<a target=\"_blank\" href=https://colab.research.google.com/notebooks/data_table.ipynb>data table notebook</a>'\n",
              "          + ' to learn more about interactive tables.';\n",
              "        element.innerHTML = '';\n",
              "        dataTable['output_type'] = 'display_data';\n",
              "        await google.colab.output.renderOutput(dataTable, element);\n",
              "        const docLink = document.createElement('div');\n",
              "        docLink.innerHTML = docLinkHtml;\n",
              "        element.appendChild(docLink);\n",
              "      }\n",
              "    </script>\n",
              "  </div>\n",
              "\n",
              "\n",
              "<div id=\"df-e458bdae-ff9a-4e2c-95de-d1e579ca99df\">\n",
              "  <button class=\"colab-df-quickchart\" onclick=\"quickchart('df-e458bdae-ff9a-4e2c-95de-d1e579ca99df')\"\n",
              "            title=\"Suggest charts\"\n",
              "            style=\"display:none;\">\n",
              "\n",
              "<svg xmlns=\"http://www.w3.org/2000/svg\" height=\"24px\"viewBox=\"0 0 24 24\"\n",
              "     width=\"24px\">\n",
              "    <g>\n",
              "        <path d=\"M19 3H5c-1.1 0-2 .9-2 2v14c0 1.1.9 2 2 2h14c1.1 0 2-.9 2-2V5c0-1.1-.9-2-2-2zM9 17H7v-7h2v7zm4 0h-2V7h2v10zm4 0h-2v-4h2v4z\"/>\n",
              "    </g>\n",
              "</svg>\n",
              "  </button>\n",
              "\n",
              "<style>\n",
              "  .colab-df-quickchart {\n",
              "      --bg-color: #E8F0FE;\n",
              "      --fill-color: #1967D2;\n",
              "      --hover-bg-color: #E2EBFA;\n",
              "      --hover-fill-color: #174EA6;\n",
              "      --disabled-fill-color: #AAA;\n",
              "      --disabled-bg-color: #DDD;\n",
              "  }\n",
              "\n",
              "  [theme=dark] .colab-df-quickchart {\n",
              "      --bg-color: #3B4455;\n",
              "      --fill-color: #D2E3FC;\n",
              "      --hover-bg-color: #434B5C;\n",
              "      --hover-fill-color: #FFFFFF;\n",
              "      --disabled-bg-color: #3B4455;\n",
              "      --disabled-fill-color: #666;\n",
              "  }\n",
              "\n",
              "  .colab-df-quickchart {\n",
              "    background-color: var(--bg-color);\n",
              "    border: none;\n",
              "    border-radius: 50%;\n",
              "    cursor: pointer;\n",
              "    display: none;\n",
              "    fill: var(--fill-color);\n",
              "    height: 32px;\n",
              "    padding: 0;\n",
              "    width: 32px;\n",
              "  }\n",
              "\n",
              "  .colab-df-quickchart:hover {\n",
              "    background-color: var(--hover-bg-color);\n",
              "    box-shadow: 0 1px 2px rgba(60, 64, 67, 0.3), 0 1px 3px 1px rgba(60, 64, 67, 0.15);\n",
              "    fill: var(--button-hover-fill-color);\n",
              "  }\n",
              "\n",
              "  .colab-df-quickchart-complete:disabled,\n",
              "  .colab-df-quickchart-complete:disabled:hover {\n",
              "    background-color: var(--disabled-bg-color);\n",
              "    fill: var(--disabled-fill-color);\n",
              "    box-shadow: none;\n",
              "  }\n",
              "\n",
              "  .colab-df-spinner {\n",
              "    border: 2px solid var(--fill-color);\n",
              "    border-color: transparent;\n",
              "    border-bottom-color: var(--fill-color);\n",
              "    animation:\n",
              "      spin 1s steps(1) infinite;\n",
              "  }\n",
              "\n",
              "  @keyframes spin {\n",
              "    0% {\n",
              "      border-color: transparent;\n",
              "      border-bottom-color: var(--fill-color);\n",
              "      border-left-color: var(--fill-color);\n",
              "    }\n",
              "    20% {\n",
              "      border-color: transparent;\n",
              "      border-left-color: var(--fill-color);\n",
              "      border-top-color: var(--fill-color);\n",
              "    }\n",
              "    30% {\n",
              "      border-color: transparent;\n",
              "      border-left-color: var(--fill-color);\n",
              "      border-top-color: var(--fill-color);\n",
              "      border-right-color: var(--fill-color);\n",
              "    }\n",
              "    40% {\n",
              "      border-color: transparent;\n",
              "      border-right-color: var(--fill-color);\n",
              "      border-top-color: var(--fill-color);\n",
              "    }\n",
              "    60% {\n",
              "      border-color: transparent;\n",
              "      border-right-color: var(--fill-color);\n",
              "    }\n",
              "    80% {\n",
              "      border-color: transparent;\n",
              "      border-right-color: var(--fill-color);\n",
              "      border-bottom-color: var(--fill-color);\n",
              "    }\n",
              "    90% {\n",
              "      border-color: transparent;\n",
              "      border-bottom-color: var(--fill-color);\n",
              "    }\n",
              "  }\n",
              "</style>\n",
              "\n",
              "  <script>\n",
              "    async function quickchart(key) {\n",
              "      const quickchartButtonEl =\n",
              "        document.querySelector('#' + key + ' button');\n",
              "      quickchartButtonEl.disabled = true;  // To prevent multiple clicks.\n",
              "      quickchartButtonEl.classList.add('colab-df-spinner');\n",
              "      try {\n",
              "        const charts = await google.colab.kernel.invokeFunction(\n",
              "            'suggestCharts', [key], {});\n",
              "      } catch (error) {\n",
              "        console.error('Error during call to suggestCharts:', error);\n",
              "      }\n",
              "      quickchartButtonEl.classList.remove('colab-df-spinner');\n",
              "      quickchartButtonEl.classList.add('colab-df-quickchart-complete');\n",
              "    }\n",
              "    (() => {\n",
              "      let quickchartButtonEl =\n",
              "        document.querySelector('#df-e458bdae-ff9a-4e2c-95de-d1e579ca99df button');\n",
              "      quickchartButtonEl.style.display =\n",
              "        google.colab.kernel.accessAllowed ? 'block' : 'none';\n",
              "    })();\n",
              "  </script>\n",
              "</div>\n",
              "\n",
              "    </div>\n",
              "  </div>\n"
            ]
          },
          "metadata": {},
          "execution_count": 12
        }
      ]
    },
    {
      "cell_type": "code",
      "source": [
        "path = \"/content/gdrive/My Drive/test/\"\n",
        "test_set = pd.read_csv('/content/gdrive/My Drive/sample_submission.csv')\n",
        "test_files = []\n",
        "for i in range(len(test_set)):\n",
        "    test_files.append(path + str(int(test_set.iloc[i][0])) +'.jpg')\n",
        "print(test_set.shape)\n",
        "test_set.head()"
      ],
      "metadata": {
        "colab": {
          "base_uri": "https://localhost:8080/",
          "height": 223
        },
        "id": "MHuvNFGoYvna",
        "outputId": "b69efea3-1d48-4be2-84a4-34886e595a5a"
      },
      "execution_count": null,
      "outputs": [
        {
          "output_type": "stream",
          "name": "stdout",
          "text": [
            "(1531, 2)\n"
          ]
        },
        {
          "output_type": "execute_result",
          "data": {
            "text/plain": [
              "   name  invasive\n",
              "0     1       0.5\n",
              "1     2       0.5\n",
              "2     3       0.5\n",
              "3     4       0.5\n",
              "4     5       0.5"
            ],
            "text/html": [
              "\n",
              "  <div id=\"df-2f68071f-7ceb-4dce-bbb0-6d476ba6cd2f\" class=\"colab-df-container\">\n",
              "    <div>\n",
              "<style scoped>\n",
              "    .dataframe tbody tr th:only-of-type {\n",
              "        vertical-align: middle;\n",
              "    }\n",
              "\n",
              "    .dataframe tbody tr th {\n",
              "        vertical-align: top;\n",
              "    }\n",
              "\n",
              "    .dataframe thead th {\n",
              "        text-align: right;\n",
              "    }\n",
              "</style>\n",
              "<table border=\"1\" class=\"dataframe\">\n",
              "  <thead>\n",
              "    <tr style=\"text-align: right;\">\n",
              "      <th></th>\n",
              "      <th>name</th>\n",
              "      <th>invasive</th>\n",
              "    </tr>\n",
              "  </thead>\n",
              "  <tbody>\n",
              "    <tr>\n",
              "      <th>0</th>\n",
              "      <td>1</td>\n",
              "      <td>0.5</td>\n",
              "    </tr>\n",
              "    <tr>\n",
              "      <th>1</th>\n",
              "      <td>2</td>\n",
              "      <td>0.5</td>\n",
              "    </tr>\n",
              "    <tr>\n",
              "      <th>2</th>\n",
              "      <td>3</td>\n",
              "      <td>0.5</td>\n",
              "    </tr>\n",
              "    <tr>\n",
              "      <th>3</th>\n",
              "      <td>4</td>\n",
              "      <td>0.5</td>\n",
              "    </tr>\n",
              "    <tr>\n",
              "      <th>4</th>\n",
              "      <td>5</td>\n",
              "      <td>0.5</td>\n",
              "    </tr>\n",
              "  </tbody>\n",
              "</table>\n",
              "</div>\n",
              "    <div class=\"colab-df-buttons\">\n",
              "\n",
              "  <div class=\"colab-df-container\">\n",
              "    <button class=\"colab-df-convert\" onclick=\"convertToInteractive('df-2f68071f-7ceb-4dce-bbb0-6d476ba6cd2f')\"\n",
              "            title=\"Convert this dataframe to an interactive table.\"\n",
              "            style=\"display:none;\">\n",
              "\n",
              "  <svg xmlns=\"http://www.w3.org/2000/svg\" height=\"24px\" viewBox=\"0 -960 960 960\">\n",
              "    <path d=\"M120-120v-720h720v720H120Zm60-500h600v-160H180v160Zm220 220h160v-160H400v160Zm0 220h160v-160H400v160ZM180-400h160v-160H180v160Zm440 0h160v-160H620v160ZM180-180h160v-160H180v160Zm440 0h160v-160H620v160Z\"/>\n",
              "  </svg>\n",
              "    </button>\n",
              "\n",
              "  <style>\n",
              "    .colab-df-container {\n",
              "      display:flex;\n",
              "      gap: 12px;\n",
              "    }\n",
              "\n",
              "    .colab-df-convert {\n",
              "      background-color: #E8F0FE;\n",
              "      border: none;\n",
              "      border-radius: 50%;\n",
              "      cursor: pointer;\n",
              "      display: none;\n",
              "      fill: #1967D2;\n",
              "      height: 32px;\n",
              "      padding: 0 0 0 0;\n",
              "      width: 32px;\n",
              "    }\n",
              "\n",
              "    .colab-df-convert:hover {\n",
              "      background-color: #E2EBFA;\n",
              "      box-shadow: 0px 1px 2px rgba(60, 64, 67, 0.3), 0px 1px 3px 1px rgba(60, 64, 67, 0.15);\n",
              "      fill: #174EA6;\n",
              "    }\n",
              "\n",
              "    .colab-df-buttons div {\n",
              "      margin-bottom: 4px;\n",
              "    }\n",
              "\n",
              "    [theme=dark] .colab-df-convert {\n",
              "      background-color: #3B4455;\n",
              "      fill: #D2E3FC;\n",
              "    }\n",
              "\n",
              "    [theme=dark] .colab-df-convert:hover {\n",
              "      background-color: #434B5C;\n",
              "      box-shadow: 0px 1px 3px 1px rgba(0, 0, 0, 0.15);\n",
              "      filter: drop-shadow(0px 1px 2px rgba(0, 0, 0, 0.3));\n",
              "      fill: #FFFFFF;\n",
              "    }\n",
              "  </style>\n",
              "\n",
              "    <script>\n",
              "      const buttonEl =\n",
              "        document.querySelector('#df-2f68071f-7ceb-4dce-bbb0-6d476ba6cd2f button.colab-df-convert');\n",
              "      buttonEl.style.display =\n",
              "        google.colab.kernel.accessAllowed ? 'block' : 'none';\n",
              "\n",
              "      async function convertToInteractive(key) {\n",
              "        const element = document.querySelector('#df-2f68071f-7ceb-4dce-bbb0-6d476ba6cd2f');\n",
              "        const dataTable =\n",
              "          await google.colab.kernel.invokeFunction('convertToInteractive',\n",
              "                                                    [key], {});\n",
              "        if (!dataTable) return;\n",
              "\n",
              "        const docLinkHtml = 'Like what you see? Visit the ' +\n",
              "          '<a target=\"_blank\" href=https://colab.research.google.com/notebooks/data_table.ipynb>data table notebook</a>'\n",
              "          + ' to learn more about interactive tables.';\n",
              "        element.innerHTML = '';\n",
              "        dataTable['output_type'] = 'display_data';\n",
              "        await google.colab.output.renderOutput(dataTable, element);\n",
              "        const docLink = document.createElement('div');\n",
              "        docLink.innerHTML = docLinkHtml;\n",
              "        element.appendChild(docLink);\n",
              "      }\n",
              "    </script>\n",
              "  </div>\n",
              "\n",
              "\n",
              "<div id=\"df-f3a7ca28-0743-49de-bb03-49e5866bf2a8\">\n",
              "  <button class=\"colab-df-quickchart\" onclick=\"quickchart('df-f3a7ca28-0743-49de-bb03-49e5866bf2a8')\"\n",
              "            title=\"Suggest charts\"\n",
              "            style=\"display:none;\">\n",
              "\n",
              "<svg xmlns=\"http://www.w3.org/2000/svg\" height=\"24px\"viewBox=\"0 0 24 24\"\n",
              "     width=\"24px\">\n",
              "    <g>\n",
              "        <path d=\"M19 3H5c-1.1 0-2 .9-2 2v14c0 1.1.9 2 2 2h14c1.1 0 2-.9 2-2V5c0-1.1-.9-2-2-2zM9 17H7v-7h2v7zm4 0h-2V7h2v10zm4 0h-2v-4h2v4z\"/>\n",
              "    </g>\n",
              "</svg>\n",
              "  </button>\n",
              "\n",
              "<style>\n",
              "  .colab-df-quickchart {\n",
              "      --bg-color: #E8F0FE;\n",
              "      --fill-color: #1967D2;\n",
              "      --hover-bg-color: #E2EBFA;\n",
              "      --hover-fill-color: #174EA6;\n",
              "      --disabled-fill-color: #AAA;\n",
              "      --disabled-bg-color: #DDD;\n",
              "  }\n",
              "\n",
              "  [theme=dark] .colab-df-quickchart {\n",
              "      --bg-color: #3B4455;\n",
              "      --fill-color: #D2E3FC;\n",
              "      --hover-bg-color: #434B5C;\n",
              "      --hover-fill-color: #FFFFFF;\n",
              "      --disabled-bg-color: #3B4455;\n",
              "      --disabled-fill-color: #666;\n",
              "  }\n",
              "\n",
              "  .colab-df-quickchart {\n",
              "    background-color: var(--bg-color);\n",
              "    border: none;\n",
              "    border-radius: 50%;\n",
              "    cursor: pointer;\n",
              "    display: none;\n",
              "    fill: var(--fill-color);\n",
              "    height: 32px;\n",
              "    padding: 0;\n",
              "    width: 32px;\n",
              "  }\n",
              "\n",
              "  .colab-df-quickchart:hover {\n",
              "    background-color: var(--hover-bg-color);\n",
              "    box-shadow: 0 1px 2px rgba(60, 64, 67, 0.3), 0 1px 3px 1px rgba(60, 64, 67, 0.15);\n",
              "    fill: var(--button-hover-fill-color);\n",
              "  }\n",
              "\n",
              "  .colab-df-quickchart-complete:disabled,\n",
              "  .colab-df-quickchart-complete:disabled:hover {\n",
              "    background-color: var(--disabled-bg-color);\n",
              "    fill: var(--disabled-fill-color);\n",
              "    box-shadow: none;\n",
              "  }\n",
              "\n",
              "  .colab-df-spinner {\n",
              "    border: 2px solid var(--fill-color);\n",
              "    border-color: transparent;\n",
              "    border-bottom-color: var(--fill-color);\n",
              "    animation:\n",
              "      spin 1s steps(1) infinite;\n",
              "  }\n",
              "\n",
              "  @keyframes spin {\n",
              "    0% {\n",
              "      border-color: transparent;\n",
              "      border-bottom-color: var(--fill-color);\n",
              "      border-left-color: var(--fill-color);\n",
              "    }\n",
              "    20% {\n",
              "      border-color: transparent;\n",
              "      border-left-color: var(--fill-color);\n",
              "      border-top-color: var(--fill-color);\n",
              "    }\n",
              "    30% {\n",
              "      border-color: transparent;\n",
              "      border-left-color: var(--fill-color);\n",
              "      border-top-color: var(--fill-color);\n",
              "      border-right-color: var(--fill-color);\n",
              "    }\n",
              "    40% {\n",
              "      border-color: transparent;\n",
              "      border-right-color: var(--fill-color);\n",
              "      border-top-color: var(--fill-color);\n",
              "    }\n",
              "    60% {\n",
              "      border-color: transparent;\n",
              "      border-right-color: var(--fill-color);\n",
              "    }\n",
              "    80% {\n",
              "      border-color: transparent;\n",
              "      border-right-color: var(--fill-color);\n",
              "      border-bottom-color: var(--fill-color);\n",
              "    }\n",
              "    90% {\n",
              "      border-color: transparent;\n",
              "      border-bottom-color: var(--fill-color);\n",
              "    }\n",
              "  }\n",
              "</style>\n",
              "\n",
              "  <script>\n",
              "    async function quickchart(key) {\n",
              "      const quickchartButtonEl =\n",
              "        document.querySelector('#' + key + ' button');\n",
              "      quickchartButtonEl.disabled = true;  // To prevent multiple clicks.\n",
              "      quickchartButtonEl.classList.add('colab-df-spinner');\n",
              "      try {\n",
              "        const charts = await google.colab.kernel.invokeFunction(\n",
              "            'suggestCharts', [key], {});\n",
              "      } catch (error) {\n",
              "        console.error('Error during call to suggestCharts:', error);\n",
              "      }\n",
              "      quickchartButtonEl.classList.remove('colab-df-spinner');\n",
              "      quickchartButtonEl.classList.add('colab-df-quickchart-complete');\n",
              "    }\n",
              "    (() => {\n",
              "      let quickchartButtonEl =\n",
              "        document.querySelector('#df-f3a7ca28-0743-49de-bb03-49e5866bf2a8 button');\n",
              "      quickchartButtonEl.style.display =\n",
              "        google.colab.kernel.accessAllowed ? 'block' : 'none';\n",
              "    })();\n",
              "  </script>\n",
              "</div>\n",
              "\n",
              "    </div>\n",
              "  </div>\n"
            ]
          },
          "metadata": {},
          "execution_count": 14
        }
      ]
    },
    {
      "cell_type": "code",
      "source": [
        "img_dim = (800, 800, 3)\n",
        "input = Input(shape=img_dim)\n",
        "base_model = InceptionV3(include_top=False,weights='imagenet',input_shape=img_dim)\n",
        "bn = BatchNormalization()(input)\n",
        "x = base_model(bn)\n",
        "x = GlobalAveragePooling2D()(x)\n",
        "x = Dropout(0.5)(x)\n",
        "output = Dense(1, activation='sigmoid')(x)\n",
        "model = Model(input, output)\n",
        "model.summary()"
      ],
      "metadata": {
        "colab": {
          "base_uri": "https://localhost:8080/"
        },
        "id": "rAra0oAUWaJu",
        "outputId": "eec0d8c2-c32f-44b6-fd2f-732f01947f7a"
      },
      "execution_count": null,
      "outputs": [
        {
          "output_type": "stream",
          "name": "stdout",
          "text": [
            "Downloading data from https://storage.googleapis.com/tensorflow/keras-applications/inception_v3/inception_v3_weights_tf_dim_ordering_tf_kernels_notop.h5\n",
            "87910968/87910968 [==============================] - 0s 0us/step\n",
            "Model: \"model\"\n",
            "_________________________________________________________________\n",
            " Layer (type)                Output Shape              Param #   \n",
            "=================================================================\n",
            " input_1 (InputLayer)        [(None, 800, 800, 3)]     0         \n",
            "                                                                 \n",
            " batch_normalization_94 (Ba  (None, 800, 800, 3)       12        \n",
            " tchNormalization)                                               \n",
            "                                                                 \n",
            " inception_v3 (Functional)   (None, 23, 23, 2048)      21802784  \n",
            "                                                                 \n",
            " global_average_pooling2d (  (None, 2048)              0         \n",
            " GlobalAveragePooling2D)                                         \n",
            "                                                                 \n",
            " dropout (Dropout)           (None, 2048)              0         \n",
            "                                                                 \n",
            " dense (Dense)               (None, 1)                 2049      \n",
            "                                                                 \n",
            "=================================================================\n",
            "Total params: 21804845 (83.18 MB)\n",
            "Trainable params: 21770407 (83.05 MB)\n",
            "Non-trainable params: 34438 (134.52 KB)\n",
            "_________________________________________________________________\n"
          ]
        }
      ]
    },
    {
      "cell_type": "code",
      "source": [
        "def train_model(model, batch_size, epochs, img_size, x, y, test, n_fold, kf):\n",
        "    roc_auc = metrics.roc_auc_score\n",
        "    preds_train = np.zeros(len(x), dtype = float)\n",
        "    preds_test = np.zeros(len(test), dtype = float)\n",
        "    train_scores = []; valid_scores = []\n",
        "\n",
        "    i = 1\n",
        "\n",
        "    for train_index, test_index in kf.split(x):\n",
        "        x_train = x.iloc[train_index]; x_valid = x.iloc[test_index]\n",
        "        y_train = y[train_index]; y_valid = y[test_index]\n",
        "\n",
        "        def augment(src, choice):\n",
        "            if choice == 0:\n",
        "                # Rotate 90\n",
        "                src = np.rot90(src, 1)\n",
        "            if choice == 1:\n",
        "                # flip vertically\n",
        "                src = np.flipud(src)\n",
        "            if choice == 2:\n",
        "                # Rotate 180\n",
        "                src = np.rot90(src, 2)\n",
        "            if choice == 3:\n",
        "                # flip horizontally\n",
        "                src = np.fliplr(src)\n",
        "            if choice == 4:\n",
        "                # Rotate 90 counter-clockwise\n",
        "                src = np.rot90(src, 3)\n",
        "            if choice == 5:\n",
        "                # Rotate 180 and flip horizontally\n",
        "                src = np.rot90(src, 2)\n",
        "                src = np.fliplr(src)\n",
        "            return src\n",
        "\n",
        "        def train_generator():\n",
        "            while True:\n",
        "                for start in range(0, len(x_train), batch_size):\n",
        "                    x_batch = []\n",
        "                    y_batch = []\n",
        "                    end = min(start + batch_size, len(x_train))\n",
        "                    train_batch = x_train[start:end]\n",
        "                    for filepath, tag in train_batch.values:\n",
        "                        img = cv2.imread(filepath)\n",
        "                        img = cv2.resize(img, img_size)\n",
        "                        img = augment(img, np.random.randint(6))\n",
        "                        x_batch.append(img)\n",
        "                        y_batch.append(tag)\n",
        "                    x_batch = np.array(x_batch, np.float32) / 255.\n",
        "                    y_batch = np.array(y_batch, np.uint8)\n",
        "                    yield x_batch, y_batch\n",
        "\n",
        "        def valid_generator():\n",
        "            while True:\n",
        "                for start in range(0, len(x_valid), batch_size):\n",
        "                    x_batch = []\n",
        "                    y_batch = []\n",
        "                    end = min(start + batch_size, len(x_valid))\n",
        "                    valid_batch = x_valid[start:end]\n",
        "                    for filepath, tag in valid_batch.values:\n",
        "                        img = cv2.imread(filepath)\n",
        "                        img = cv2.resize(img, img_size)\n",
        "                        img = augment(img, np.random.randint(6))\n",
        "                        x_batch.append(img)\n",
        "                        y_batch.append(tag)\n",
        "                    x_batch = np.array(x_batch, np.float32) / 255.\n",
        "                    y_batch = np.array(y_batch, np.uint8)\n",
        "                    yield x_batch, y_batch\n",
        "\n",
        "        def test_generator():\n",
        "            while True:\n",
        "                for start in range(0, len(test), batch_size):\n",
        "                    x_batch = []\n",
        "                    end = min(start + batch_size, len(test))\n",
        "                    test_batch = test[start:end]\n",
        "                    for filepath in test_batch:\n",
        "                        img = cv2.imread(filepath)\n",
        "                        img = cv2.resize(img, img_size)\n",
        "                        x_batch.append(img)\n",
        "                    x_batch = np.array(x_batch, np.float32) / 255.\n",
        "                    yield x_batch\n",
        "\n",
        "        callbacks = [EarlyStopping(monitor='val_loss', patience=3, verbose=1, min_delta=1e-4),\n",
        "             ReduceLROnPlateau(monitor='val_loss', factor=0.1, patience=1, cooldown=1,\n",
        "                               verbose=1, min_lr=1e-7),\n",
        "             ModelCheckpoint(filepath='inception.fold_' + str(i) + '.hdf5', verbose=1,\n",
        "                             save_best_only=True, save_weights_only=True, mode='auto')]\n",
        "\n",
        "        train_steps = len(x_train) / batch_size\n",
        "        valid_steps = len(x_valid) / batch_size\n",
        "        test_steps = len(test) / batch_size\n",
        "\n",
        "        model = model\n",
        "\n",
        "        model.compile(optimizer=Adam(lr=1e-4), loss='binary_crossentropy',\n",
        "                      metrics = ['accuracy'])\n",
        "\n",
        "        model.fit(train_generator(), train_steps, epochs=epochs, verbose=1,\n",
        "                            callbacks=callbacks, validation_data=valid_generator(),\n",
        "                            validation_steps=valid_steps)\n",
        "\n",
        "        model.load_weights(filepath='inception.fold_' + str(i) + '.hdf5')\n",
        "\n",
        "        print('Running validation predictions on fold {}'.format(i))\n",
        "        preds_valid = model.predict_generator(generator=valid_generator(),\n",
        "                                      steps=valid_steps, verbose=1)[:, 0]\n",
        "\n",
        "        print('Running train predictions on fold {}'.format(i))\n",
        "        preds_train = model.predict_generator(generator=train_generator(),\n",
        "                                      steps=train_steps, verbose=1)[:, 0]\n",
        "\n",
        "        valid_score = roc_auc(y_valid, preds_valid)\n",
        "        train_score = roc_auc(y_train, preds_train)\n",
        "        print('Val Score:{} for fold {}'.format(valid_score, i))\n",
        "        print('Train Score: {} for fold {}'.format(train_score, i))\n",
        "\n",
        "        valid_scores.append(valid_score)\n",
        "        train_scores.append(train_score)\n",
        "        print('Avg Train Score:{0:0.5f}, Val Score:{1:0.5f} after {2:0.5f} folds'.format\n",
        "              (np.mean(train_scores), np.mean(valid_scores), i))\n",
        "\n",
        "        print('Running test predictions with fold {}'.format(i))\n",
        "\n",
        "        preds_test_fold = model.predict(generator=test_generator(),steps=test_steps, verbose=1)[:, -1]\n",
        "\n",
        "        preds_test += preds_test_fold\n",
        "\n",
        "        print('\\n\\n')\n",
        "\n",
        "        i += 1\n",
        "\n",
        "        if i <= n_fold:\n",
        "            print('Now beginning training for fold {}\\n\\n'.format(i))\n",
        "        else:\n",
        "            print('Finished training!')\n",
        "\n",
        "    preds_test /= n_fold\n",
        "\n",
        "\n",
        "    return preds_test"
      ],
      "metadata": {
        "id": "2MEkoozuWr7e"
      },
      "execution_count": null,
      "outputs": []
    },
    {
      "cell_type": "code",
      "source": [],
      "metadata": {
        "id": "AafUUxCbEc0y"
      },
      "execution_count": null,
      "outputs": []
    },
    {
      "cell_type": "code",
      "source": [
        "batch_size = 5\n",
        "epochs = 50\n",
        "n_fold = 5\n",
        "img_size = (800, 800)\n",
        "kf = KFold(n_splits=n_fold, shuffle=True)\n",
        "\n",
        "test_pred = train_model(model, batch_size, epochs, img_size, train_set,\n",
        "                        train_label, test_files, n_fold, kf)\n",
        "\n",
        "test_set['invasive'] = test_pred\n",
        "test_set.to_csv('/content/gdrive/My Drive/submission.csv', index = None)"
      ],
      "metadata": {
        "colab": {
          "base_uri": "https://localhost:8080/"
        },
        "id": "n0HdS_2Sgm-B",
        "outputId": "45604dc3-7412-40c1-ef53-78e24ddfc98e"
      },
      "execution_count": null,
      "outputs": [
        {
          "metadata": {
            "tags": null
          },
          "name": "stderr",
          "output_type": "stream",
          "text": [
            "<ipython-input-7-cde58208ef5a>:3: DeprecationWarning: `np.float` is a deprecated alias for the builtin `float`. To silence this warning, use `float` by itself. Doing this will not modify any behavior and is safe. If you specifically wanted the numpy scalar type, use `np.float64` here.\n",
            "Deprecated in NumPy 1.20; for more details and guidance: https://numpy.org/devdocs/release/1.20.0-notes.html#deprecations\n",
            "  preds_train = np.zeros(len(x), dtype = np.float)\n",
            "<ipython-input-7-cde58208ef5a>:4: DeprecationWarning: `np.float` is a deprecated alias for the builtin `float`. To silence this warning, use `float` by itself. Doing this will not modify any behavior and is safe. If you specifically wanted the numpy scalar type, use `np.float64` here.\n",
            "Deprecated in NumPy 1.20; for more details and guidance: https://numpy.org/devdocs/release/1.20.0-notes.html#deprecations\n",
            "  preds_test = np.zeros(len(test), dtype = np.float)\n",
            "WARNING:absl:`lr` is deprecated in Keras optimizer, please use `learning_rate` or use the legacy optimizer, e.g.,tf.keras.optimizers.legacy.Adam.\n",
            "<ipython-input-7-cde58208ef5a>:97: UserWarning: `Model.fit_generator` is deprecated and will be removed in a future version. Please use `Model.fit`, which supports generators.\n",
            "  model.fit_generator(train_generator(), train_steps, epochs=epochs, verbose=1,\n"
          ]
        },
        {
          "metadata": {
            "tags": null
          },
          "name": "stdout",
          "output_type": "stream",
          "text": [
            "Epoch 1/50\n",
            "368/367 [==============================] - ETA: -1s - loss: 0.4056 - accuracy: 0.8246\n",
            "Epoch 1: val_loss improved from inf to 0.63609, saving model to inception.fold_1.hdf5\n",
            "367/367 [==============================] - 957s 2s/step - loss: 0.4056 - accuracy: 0.8246 - val_loss: 0.6361 - val_accuracy: 0.8257 - lr: 0.0010\n",
            "Epoch 2/50\n",
            "368/367 [==============================] - ETA: 0s - loss: 0.3539 - accuracy: 0.8584\n",
            "Epoch 2: val_loss improved from 0.63609 to 0.30848, saving model to inception.fold_1.hdf5\n",
            "367/367 [==============================] - 228s 620ms/step - loss: 0.3539 - accuracy: 0.8584 - val_loss: 0.3085 - val_accuracy: 0.8736 - lr: 0.0010\n",
            "Epoch 3/50\n",
            "368/367 [==============================] - ETA: 0s - loss: 0.3074 - accuracy: 0.8742\n",
            "Epoch 3: val_loss improved from 0.30848 to 0.19822, saving model to inception.fold_1.hdf5\n",
            "367/367 [==============================] - 224s 609ms/step - loss: 0.3074 - accuracy: 0.8742 - val_loss: 0.1982 - val_accuracy: 0.9259 - lr: 0.0010\n",
            "Epoch 4/50\n",
            "368/367 [==============================] - ETA: 0s - loss: 0.3109 - accuracy: 0.8720\n",
            "Epoch 4: ReduceLROnPlateau reducing learning rate to 0.00010000000474974513.\n",
            "\n",
            "Epoch 4: val_loss did not improve from 0.19822\n",
            "367/367 [==============================] - 233s 636ms/step - loss: 0.3109 - accuracy: 0.8720 - val_loss: 0.3924 - val_accuracy: 0.8715 - lr: 0.0010\n",
            "Epoch 5/50\n",
            "368/367 [==============================] - ETA: 0s - loss: 0.2445 - accuracy: 0.9150\n",
            "Epoch 5: ReduceLROnPlateau reducing learning rate to 1.0000000474974514e-05.\n",
            "\n",
            "Epoch 5: val_loss did not improve from 0.19822\n",
            "367/367 [==============================] - 220s 598ms/step - loss: 0.2445 - accuracy: 0.9150 - val_loss: 0.2336 - val_accuracy: 0.9063 - lr: 1.0000e-04\n",
            "Epoch 6/50\n",
            "368/367 [==============================] - ETA: 0s - loss: 0.2142 - accuracy: 0.9286\n",
            "Epoch 6: ReduceLROnPlateau reducing learning rate to 1.0000000656873453e-06.\n",
            "\n",
            "Epoch 6: val_loss did not improve from 0.19822\n",
            "367/367 [==============================] - 233s 636ms/step - loss: 0.2142 - accuracy: 0.9286 - val_loss: 0.2075 - val_accuracy: 0.9194 - lr: 1.0000e-05\n",
            "Epoch 6: early stopping\n",
            "Running validation predictions on fold 1\n"
          ]
        },
        {
          "metadata": {
            "tags": null
          },
          "name": "stderr",
          "output_type": "stream",
          "text": [
            "<ipython-input-7-cde58208ef5a>:104: UserWarning: `Model.predict_generator` is deprecated and will be removed in a future version. Please use `Model.predict`, which supports generators.\n",
            "  preds_valid = model.predict_generator(generator=valid_generator(),\n"
          ]
        },
        {
          "metadata": {
            "tags": null
          },
          "name": "stdout",
          "output_type": "stream",
          "text": [
            "91/91 [==============================] - 29s 310ms/step\n",
            "Running train predictions on fold 1\n"
          ]
        },
        {
          "metadata": {
            "tags": null
          },
          "name": "stderr",
          "output_type": "stream",
          "text": [
            "<ipython-input-7-cde58208ef5a>:108: UserWarning: `Model.predict_generator` is deprecated and will be removed in a future version. Please use `Model.predict`, which supports generators.\n",
            "  preds_train = model.predict_generator(generator=train_generator(),\n"
          ]
        },
        {
          "metadata": {
            "tags": null
          },
          "name": "stdout",
          "output_type": "stream",
          "text": [
            "367/367 [==============================] - 112s 305ms/step\n",
            "Val Score:0.9715582601755787 for fold 1\n",
            "Train Score: 0.9812630731687311 for fold 1\n",
            "Avg Train Score:0.98126, Val Score:0.97156 after 1.00000 folds\n",
            "Running test predictions with fold 1\n"
          ]
        },
        {
          "metadata": {
            "tags": null
          },
          "name": "stderr",
          "output_type": "stream",
          "text": [
            "<ipython-input-7-cde58208ef5a>:123: UserWarning: `Model.predict_generator` is deprecated and will be removed in a future version. Please use `Model.predict`, which supports generators.\n",
            "  preds_test_fold = model.predict_generator(generator=test_generator(),\n"
          ]
        },
        {
          "metadata": {
            "tags": null
          },
          "name": "stdout",
          "output_type": "stream",
          "text": [
            "306/306 [==============================] - 470s 2s/step\n"
          ]
        },
        {
          "metadata": {
            "tags": null
          },
          "name": "stderr",
          "output_type": "stream",
          "text": [
            "WARNING:absl:`lr` is deprecated in Keras optimizer, please use `learning_rate` or use the legacy optimizer, e.g.,tf.keras.optimizers.legacy.Adam.\n"
          ]
        },
        {
          "metadata": {
            "tags": null
          },
          "name": "stdout",
          "output_type": "stream",
          "text": [
            "\n",
            "\n",
            "\n",
            "Now beginning training for fold 2\n",
            "\n",
            "\n"
          ]
        },
        {
          "metadata": {
            "tags": null
          },
          "name": "stderr",
          "output_type": "stream",
          "text": [
            "<ipython-input-7-cde58208ef5a>:97: UserWarning: `Model.fit_generator` is deprecated and will be removed in a future version. Please use `Model.fit`, which supports generators.\n",
            "  model.fit_generator(train_generator(), train_steps, epochs=epochs, verbose=1,\n"
          ]
        },
        {
          "metadata": {
            "tags": null
          },
          "name": "stdout",
          "output_type": "stream",
          "text": [
            "Epoch 1/50\n",
            "368/367 [==============================] - ETA: 0s - loss: 0.3591 - accuracy: 0.8676\n",
            "Epoch 1: val_loss improved from inf to 0.27727, saving model to inception.fold_2.hdf5\n",
            "367/367 [==============================] - 267s 642ms/step - loss: 0.3591 - accuracy: 0.8676 - val_loss: 0.2773 - val_accuracy: 0.8780 - lr: 0.0010\n",
            "Epoch 2/50\n",
            "368/367 [==============================] - ETA: 0s - loss: 0.3049 - accuracy: 0.8911\n",
            "Epoch 2: ReduceLROnPlateau reducing learning rate to 0.00010000000474974513.\n",
            "\n",
            "Epoch 2: val_loss did not improve from 0.27727\n",
            "367/367 [==============================] - 234s 637ms/step - loss: 0.3049 - accuracy: 0.8911 - val_loss: 0.4939 - val_accuracy: 0.8627 - lr: 0.0010\n",
            "Epoch 3/50\n",
            "368/367 [==============================] - ETA: 0s - loss: 0.2738 - accuracy: 0.9031\n",
            "Epoch 3: val_loss improved from 0.27727 to 0.23886, saving model to inception.fold_2.hdf5\n",
            "367/367 [==============================] - 220s 600ms/step - loss: 0.2738 - accuracy: 0.9031 - val_loss: 0.2389 - val_accuracy: 0.9063 - lr: 1.0000e-04\n",
            "Epoch 4/50\n",
            "368/367 [==============================] - ETA: 0s - loss: 0.2143 - accuracy: 0.9314\n",
            "Epoch 4: val_loss improved from 0.23886 to 0.18331, saving model to inception.fold_2.hdf5\n",
            "367/367 [==============================] - 219s 598ms/step - loss: 0.2143 - accuracy: 0.9314 - val_loss: 0.1833 - val_accuracy: 0.9237 - lr: 1.0000e-04\n",
            "Epoch 5/50\n",
            "368/367 [==============================] - ETA: 0s - loss: 0.1966 - accuracy: 0.9368\n",
            "Epoch 5: val_loss improved from 0.18331 to 0.15378, saving model to inception.fold_2.hdf5\n",
            "367/367 [==============================] - 234s 637ms/step - loss: 0.1966 - accuracy: 0.9368 - val_loss: 0.1538 - val_accuracy: 0.9434 - lr: 1.0000e-04\n",
            "Epoch 6/50\n",
            "368/367 [==============================] - ETA: 0s - loss: 0.1595 - accuracy: 0.9521\n",
            "Epoch 6: ReduceLROnPlateau reducing learning rate to 1.0000000474974514e-05.\n",
            "\n",
            "Epoch 6: val_loss did not improve from 0.15378\n",
            "367/367 [==============================] - 220s 600ms/step - loss: 0.1595 - accuracy: 0.9521 - val_loss: 0.1629 - val_accuracy: 0.9499 - lr: 1.0000e-04\n",
            "Epoch 7/50\n",
            "368/367 [==============================] - ETA: 0s - loss: 0.1649 - accuracy: 0.9466\n",
            "Epoch 7: ReduceLROnPlateau reducing learning rate to 1.0000000656873453e-06.\n",
            "\n",
            "Epoch 7: val_loss did not improve from 0.15378\n",
            "367/367 [==============================] - 220s 599ms/step - loss: 0.1649 - accuracy: 0.9466 - val_loss: 0.1670 - val_accuracy: 0.9368 - lr: 1.0000e-05\n",
            "Epoch 8/50\n",
            "368/367 [==============================] - ETA: 0s - loss: 0.1444 - accuracy: 0.9575\n",
            "Epoch 8: val_loss improved from 0.15378 to 0.14502, saving model to inception.fold_2.hdf5\n",
            "367/367 [==============================] - 221s 601ms/step - loss: 0.1444 - accuracy: 0.9575 - val_loss: 0.1450 - val_accuracy: 0.9499 - lr: 1.0000e-06\n",
            "Epoch 9/50\n",
            "368/367 [==============================] - ETA: 0s - loss: 0.1431 - accuracy: 0.9575\n",
            "Epoch 9: ReduceLROnPlateau reducing learning rate to 1.0000001111620805e-07.\n",
            "\n",
            "Epoch 9: val_loss did not improve from 0.14502\n",
            "367/367 [==============================] - 219s 597ms/step - loss: 0.1431 - accuracy: 0.9575 - val_loss: 0.1495 - val_accuracy: 0.9412 - lr: 1.0000e-06\n",
            "Epoch 10/50\n",
            "368/367 [==============================] - ETA: 0s - loss: 0.1406 - accuracy: 0.9559\n",
            "Epoch 10: ReduceLROnPlateau reducing learning rate to 1e-07.\n",
            "\n",
            "Epoch 10: val_loss did not improve from 0.14502\n",
            "367/367 [==============================] - 220s 599ms/step - loss: 0.1406 - accuracy: 0.9559 - val_loss: 0.1456 - val_accuracy: 0.9434 - lr: 1.0000e-07\n",
            "Epoch 11/50\n",
            "368/367 [==============================] - ETA: 0s - loss: 0.1550 - accuracy: 0.9532\n",
            "Epoch 11: val_loss did not improve from 0.14502\n",
            "367/367 [==============================] - 219s 597ms/step - loss: 0.1550 - accuracy: 0.9532 - val_loss: 0.1564 - val_accuracy: 0.9390 - lr: 1.0000e-07\n",
            "Epoch 11: early stopping\n",
            "Running validation predictions on fold 2\n"
          ]
        },
        {
          "metadata": {
            "tags": null
          },
          "name": "stderr",
          "output_type": "stream",
          "text": [
            "<ipython-input-7-cde58208ef5a>:104: UserWarning: `Model.predict_generator` is deprecated and will be removed in a future version. Please use `Model.predict`, which supports generators.\n",
            "  preds_valid = model.predict_generator(generator=valid_generator(),\n"
          ]
        },
        {
          "metadata": {
            "tags": null
          },
          "name": "stdout",
          "output_type": "stream",
          "text": [
            "91/91 [==============================] - 29s 297ms/step\n",
            "Running train predictions on fold 2\n"
          ]
        },
        {
          "metadata": {
            "tags": null
          },
          "name": "stderr",
          "output_type": "stream",
          "text": [
            "<ipython-input-7-cde58208ef5a>:108: UserWarning: `Model.predict_generator` is deprecated and will be removed in a future version. Please use `Model.predict`, which supports generators.\n",
            "  preds_train = model.predict_generator(generator=train_generator(),\n"
          ]
        },
        {
          "metadata": {
            "tags": null
          },
          "name": "stdout",
          "output_type": "stream",
          "text": [
            "367/367 [==============================] - 111s 302ms/step\n",
            "Val Score:0.9871179966044143 for fold 2\n",
            "Train Score: 0.9873277012005337 for fold 2\n",
            "Avg Train Score:0.98430, Val Score:0.97934 after 2.00000 folds\n",
            "Running test predictions with fold 2\n"
          ]
        },
        {
          "metadata": {
            "tags": null
          },
          "name": "stderr",
          "output_type": "stream",
          "text": [
            "<ipython-input-7-cde58208ef5a>:123: UserWarning: `Model.predict_generator` is deprecated and will be removed in a future version. Please use `Model.predict`, which supports generators.\n",
            "  preds_test_fold = model.predict_generator(generator=test_generator(),\n"
          ]
        },
        {
          "metadata": {
            "tags": null
          },
          "name": "stdout",
          "output_type": "stream",
          "text": [
            "306/306 [==============================] - 87s 279ms/step\n"
          ]
        },
        {
          "metadata": {
            "tags": null
          },
          "name": "stderr",
          "output_type": "stream",
          "text": [
            "WARNING:absl:`lr` is deprecated in Keras optimizer, please use `learning_rate` or use the legacy optimizer, e.g.,tf.keras.optimizers.legacy.Adam.\n"
          ]
        },
        {
          "metadata": {
            "tags": null
          },
          "name": "stdout",
          "output_type": "stream",
          "text": [
            "\n",
            "\n",
            "\n",
            "Now beginning training for fold 3\n",
            "\n",
            "\n"
          ]
        },
        {
          "metadata": {
            "tags": null
          },
          "name": "stderr",
          "output_type": "stream",
          "text": [
            "<ipython-input-7-cde58208ef5a>:97: UserWarning: `Model.fit_generator` is deprecated and will be removed in a future version. Please use `Model.fit`, which supports generators.\n",
            "  model.fit_generator(train_generator(), train_steps, epochs=epochs, verbose=1,\n"
          ]
        },
        {
          "metadata": {
            "tags": null
          },
          "name": "stdout",
          "output_type": "stream",
          "text": [
            "Epoch 1/50\n",
            "368/367 [==============================] - ETA: 0s - loss: 0.2680 - accuracy: 0.8992\n",
            "Epoch 1: val_loss improved from inf to 0.31359, saving model to inception.fold_3.hdf5\n",
            "367/367 [==============================] - 267s 642ms/step - loss: 0.2680 - accuracy: 0.8992 - val_loss: 0.3136 - val_accuracy: 0.8671 - lr: 0.0010\n",
            "Epoch 2/50\n",
            "368/367 [==============================] - ETA: 0s - loss: 0.2459 - accuracy: 0.9112\n",
            "Epoch 2: val_loss improved from 0.31359 to 0.13554, saving model to inception.fold_3.hdf5\n",
            "367/367 [==============================] - 220s 599ms/step - loss: 0.2459 - accuracy: 0.9112 - val_loss: 0.1355 - val_accuracy: 0.9542 - lr: 0.0010\n",
            "Epoch 3/50\n",
            "368/367 [==============================] - ETA: 0s - loss: 0.2195 - accuracy: 0.9265\n",
            "Epoch 3: ReduceLROnPlateau reducing learning rate to 0.00010000000474974513.\n",
            "\n",
            "Epoch 3: val_loss did not improve from 0.13554\n",
            "367/367 [==============================] - 219s 596ms/step - loss: 0.2195 - accuracy: 0.9265 - val_loss: 0.1656 - val_accuracy: 0.9346 - lr: 0.0010\n",
            "Epoch 4/50\n",
            "368/367 [==============================] - ETA: 0s - loss: 0.1912 - accuracy: 0.9314\n",
            "Epoch 4: ReduceLROnPlateau reducing learning rate to 1.0000000474974514e-05.\n",
            "\n",
            "Epoch 4: val_loss did not improve from 0.13554\n",
            "367/367 [==============================] - 219s 596ms/step - loss: 0.1912 - accuracy: 0.9314 - val_loss: 0.1515 - val_accuracy: 0.9455 - lr: 1.0000e-04\n",
            "Epoch 5/50\n",
            "368/367 [==============================] - ETA: 0s - loss: 0.1647 - accuracy: 0.9450\n",
            "Epoch 5: ReduceLROnPlateau reducing learning rate to 1.0000000656873453e-06.\n",
            "\n",
            "Epoch 5: val_loss did not improve from 0.13554\n",
            "367/367 [==============================] - 233s 635ms/step - loss: 0.1647 - accuracy: 0.9450 - val_loss: 0.1397 - val_accuracy: 0.9455 - lr: 1.0000e-05\n",
            "Epoch 5: early stopping\n",
            "Running validation predictions on fold 3\n"
          ]
        },
        {
          "metadata": {
            "tags": null
          },
          "name": "stderr",
          "output_type": "stream",
          "text": [
            "<ipython-input-7-cde58208ef5a>:104: UserWarning: `Model.predict_generator` is deprecated and will be removed in a future version. Please use `Model.predict`, which supports generators.\n",
            "  preds_valid = model.predict_generator(generator=valid_generator(),\n"
          ]
        },
        {
          "metadata": {
            "tags": null
          },
          "name": "stdout",
          "output_type": "stream",
          "text": [
            "91/91 [==============================] - 29s 304ms/step\n",
            "Running train predictions on fold 3\n"
          ]
        },
        {
          "metadata": {
            "tags": null
          },
          "name": "stderr",
          "output_type": "stream",
          "text": [
            "<ipython-input-7-cde58208ef5a>:108: UserWarning: `Model.predict_generator` is deprecated and will be removed in a future version. Please use `Model.predict`, which supports generators.\n",
            "  preds_train = model.predict_generator(generator=train_generator(),\n"
          ]
        },
        {
          "metadata": {
            "tags": null
          },
          "name": "stdout",
          "output_type": "stream",
          "text": [
            "367/367 [==============================] - 111s 303ms/step\n",
            "Val Score:0.9874398823482652 for fold 3\n",
            "Train Score: 0.9876260876260876 for fold 3\n",
            "Avg Train Score:0.98541, Val Score:0.98204 after 3.00000 folds\n",
            "Running test predictions with fold 3\n"
          ]
        },
        {
          "metadata": {
            "tags": null
          },
          "name": "stderr",
          "output_type": "stream",
          "text": [
            "<ipython-input-7-cde58208ef5a>:123: UserWarning: `Model.predict_generator` is deprecated and will be removed in a future version. Please use `Model.predict`, which supports generators.\n",
            "  preds_test_fold = model.predict_generator(generator=test_generator(),\n"
          ]
        },
        {
          "metadata": {
            "tags": null
          },
          "name": "stdout",
          "output_type": "stream",
          "text": [
            "306/306 [==============================] - 87s 282ms/step\n"
          ]
        },
        {
          "metadata": {
            "tags": null
          },
          "name": "stderr",
          "output_type": "stream",
          "text": [
            "WARNING:absl:`lr` is deprecated in Keras optimizer, please use `learning_rate` or use the legacy optimizer, e.g.,tf.keras.optimizers.legacy.Adam.\n"
          ]
        },
        {
          "metadata": {
            "tags": null
          },
          "name": "stdout",
          "output_type": "stream",
          "text": [
            "\n",
            "\n",
            "\n",
            "Now beginning training for fold 4\n",
            "\n",
            "\n"
          ]
        },
        {
          "metadata": {
            "tags": null
          },
          "name": "stderr",
          "output_type": "stream",
          "text": [
            "<ipython-input-7-cde58208ef5a>:97: UserWarning: `Model.fit_generator` is deprecated and will be removed in a future version. Please use `Model.fit`, which supports generators.\n",
            "  model.fit_generator(train_generator(), train_steps, epochs=epochs, verbose=1,\n"
          ]
        },
        {
          "output_type": "stream",
          "name": "stdout",
          "text": [
            "Epoch 1/50\n",
            "368/367 [==============================] - ETA: 0s - loss: 0.2568 - accuracy: 0.9172\n",
            "Epoch 1: val_loss improved from inf to 0.27029, saving model to inception.fold_4.hdf5\n",
            "367/367 [==============================] - 252s 604ms/step - loss: 0.2568 - accuracy: 0.9172 - val_loss: 0.2703 - val_accuracy: 0.8845 - lr: 0.0010\n",
            "Epoch 2/50\n",
            "368/367 [==============================] - ETA: 0s - loss: 0.2760 - accuracy: 0.8992\n",
            "Epoch 2: ReduceLROnPlateau reducing learning rate to 0.00010000000474974513.\n",
            "\n",
            "Epoch 2: val_loss did not improve from 0.27029\n",
            "367/367 [==============================] - 218s 594ms/step - loss: 0.2760 - accuracy: 0.8992 - val_loss: 0.2825 - val_accuracy: 0.8802 - lr: 0.0010\n",
            "Epoch 3/50\n",
            "368/367 [==============================] - ETA: 0s - loss: 0.1771 - accuracy: 0.9406\n",
            "Epoch 3: val_loss improved from 0.27029 to 0.14043, saving model to inception.fold_4.hdf5\n",
            "367/367 [==============================] - 220s 598ms/step - loss: 0.1771 - accuracy: 0.9406 - val_loss: 0.1404 - val_accuracy: 0.9477 - lr: 1.0000e-04\n",
            "Epoch 4/50\n",
            "368/367 [==============================] - ETA: 0s - loss: 0.1409 - accuracy: 0.9526\n",
            "Epoch 4: val_loss improved from 0.14043 to 0.11837, saving model to inception.fold_4.hdf5\n",
            "367/367 [==============================] - 233s 636ms/step - loss: 0.1409 - accuracy: 0.9526 - val_loss: 0.1184 - val_accuracy: 0.9521 - lr: 1.0000e-04\n",
            "Epoch 5/50\n",
            "368/367 [==============================] - ETA: 0s - loss: 0.1327 - accuracy: 0.9532\n",
            "Epoch 5: val_loss improved from 0.11837 to 0.10213, saving model to inception.fold_4.hdf5\n",
            "367/367 [==============================] - 220s 598ms/step - loss: 0.1327 - accuracy: 0.9532 - val_loss: 0.1021 - val_accuracy: 0.9586 - lr: 1.0000e-04\n",
            "Epoch 6/50\n",
            "368/367 [==============================] - ETA: 0s - loss: 0.1188 - accuracy: 0.9635\n",
            "Epoch 6: val_loss improved from 0.10213 to 0.09299, saving model to inception.fold_4.hdf5\n",
            "367/367 [==============================] - 234s 636ms/step - loss: 0.1188 - accuracy: 0.9635 - val_loss: 0.0930 - val_accuracy: 0.9651 - lr: 1.0000e-04\n",
            "Epoch 7/50\n",
            "368/367 [==============================] - ETA: 0s - loss: 0.1077 - accuracy: 0.9602\n",
            "Epoch 7: ReduceLROnPlateau reducing learning rate to 1.0000000474974514e-05.\n",
            "\n",
            "Epoch 7: val_loss did not improve from 0.09299\n",
            "367/367 [==============================] - 219s 596ms/step - loss: 0.1077 - accuracy: 0.9602 - val_loss: 0.1018 - val_accuracy: 0.9564 - lr: 1.0000e-04\n",
            "Epoch 8/50\n",
            "368/367 [==============================] - ETA: 0s - loss: 0.0940 - accuracy: 0.9690\n",
            "Epoch 8: val_loss improved from 0.09299 to 0.07919, saving model to inception.fold_4.hdf5\n",
            "367/367 [==============================] - 234s 636ms/step - loss: 0.0940 - accuracy: 0.9690 - val_loss: 0.0792 - val_accuracy: 0.9739 - lr: 1.0000e-05\n",
            "Epoch 9/50\n",
            "368/367 [==============================] - ETA: 0s - loss: 0.0957 - accuracy: 0.9722\n",
            "Epoch 9: ReduceLROnPlateau reducing learning rate to 1.0000000656873453e-06.\n",
            "\n",
            "Epoch 9: val_loss did not improve from 0.07919\n",
            "367/367 [==============================] - 219s 596ms/step - loss: 0.0957 - accuracy: 0.9722 - val_loss: 0.0830 - val_accuracy: 0.9695 - lr: 1.0000e-05\n",
            "Epoch 10/50\n",
            "368/367 [==============================] - ETA: 0s - loss: 0.0852 - accuracy: 0.9749\n",
            "Epoch 10: ReduceLROnPlateau reducing learning rate to 1.0000001111620805e-07.\n",
            "\n",
            "Epoch 10: val_loss did not improve from 0.07919\n",
            "367/367 [==============================] - 219s 596ms/step - loss: 0.0852 - accuracy: 0.9749 - val_loss: 0.0921 - val_accuracy: 0.9651 - lr: 1.0000e-06\n",
            "Epoch 11/50\n",
            "368/367 [==============================] - ETA: 0s - loss: 0.0820 - accuracy: 0.9755\n",
            "Epoch 11: ReduceLROnPlateau reducing learning rate to 1e-07.\n",
            "\n",
            "Epoch 11: val_loss did not improve from 0.07919\n",
            "367/367 [==============================] - 233s 636ms/step - loss: 0.0820 - accuracy: 0.9755 - val_loss: 0.0812 - val_accuracy: 0.9717 - lr: 1.0000e-07\n",
            "Epoch 11: early stopping\n",
            "Running validation predictions on fold 4\n"
          ]
        },
        {
          "output_type": "stream",
          "name": "stderr",
          "text": [
            "<ipython-input-7-cde58208ef5a>:104: UserWarning: `Model.predict_generator` is deprecated and will be removed in a future version. Please use `Model.predict`, which supports generators.\n",
            "  preds_valid = model.predict_generator(generator=valid_generator(),\n"
          ]
        },
        {
          "output_type": "stream",
          "name": "stdout",
          "text": [
            "91/91 [==============================] - 29s 300ms/step\n",
            "Running train predictions on fold 4\n"
          ]
        },
        {
          "output_type": "stream",
          "name": "stderr",
          "text": [
            "<ipython-input-7-cde58208ef5a>:108: UserWarning: `Model.predict_generator` is deprecated and will be removed in a future version. Please use `Model.predict`, which supports generators.\n",
            "  preds_train = model.predict_generator(generator=train_generator(),\n"
          ]
        },
        {
          "output_type": "stream",
          "name": "stdout",
          "text": [
            "367/367 [==============================] - 110s 301ms/step\n",
            "Val Score:0.9937860153091941 for fold 4\n",
            "Train Score: 0.9932030147207098 for fold 4\n",
            "Avg Train Score:0.98735, Val Score:0.98498 after 4.00000 folds\n",
            "Running test predictions with fold 4\n"
          ]
        },
        {
          "output_type": "stream",
          "name": "stderr",
          "text": [
            "<ipython-input-7-cde58208ef5a>:123: UserWarning: `Model.predict_generator` is deprecated and will be removed in a future version. Please use `Model.predict`, which supports generators.\n",
            "  preds_test_fold = model.predict_generator(generator=test_generator(),\n"
          ]
        },
        {
          "output_type": "stream",
          "name": "stdout",
          "text": [
            "306/306 [==============================] - 88s 282ms/step\n"
          ]
        },
        {
          "output_type": "stream",
          "name": "stderr",
          "text": [
            "WARNING:absl:`lr` is deprecated in Keras optimizer, please use `learning_rate` or use the legacy optimizer, e.g.,tf.keras.optimizers.legacy.Adam.\n"
          ]
        },
        {
          "output_type": "stream",
          "name": "stdout",
          "text": [
            "\n",
            "\n",
            "\n",
            "Now beginning training for fold 5\n",
            "\n",
            "\n"
          ]
        },
        {
          "output_type": "stream",
          "name": "stderr",
          "text": [
            "<ipython-input-7-cde58208ef5a>:97: UserWarning: `Model.fit_generator` is deprecated and will be removed in a future version. Please use `Model.fit`, which supports generators.\n",
            "  model.fit_generator(train_generator(), train_steps, epochs=epochs, verbose=1,\n"
          ]
        },
        {
          "output_type": "stream",
          "name": "stdout",
          "text": [
            "Epoch 1/50\n",
            "368/367 [==============================] - ETA: 0s - loss: 0.2187 - accuracy: 0.9325\n",
            "Epoch 1: val_loss improved from inf to 0.39901, saving model to inception.fold_5.hdf5\n",
            "367/367 [==============================] - 267s 644ms/step - loss: 0.2187 - accuracy: 0.9325 - val_loss: 0.3990 - val_accuracy: 0.8257 - lr: 0.0010\n",
            "Epoch 2/50\n",
            "368/367 [==============================] - ETA: 0s - loss: 0.2147 - accuracy: 0.9254\n",
            "Epoch 2: val_loss improved from 0.39901 to 0.20515, saving model to inception.fold_5.hdf5\n",
            "367/367 [==============================] - 220s 598ms/step - loss: 0.2147 - accuracy: 0.9254 - val_loss: 0.2052 - val_accuracy: 0.9216 - lr: 0.0010\n",
            "Epoch 3/50\n",
            "368/367 [==============================] - ETA: 0s - loss: 0.1963 - accuracy: 0.9325\n",
            "Epoch 3: ReduceLROnPlateau reducing learning rate to 0.00010000000474974513.\n",
            "\n",
            "Epoch 3: val_loss did not improve from 0.20515\n",
            "367/367 [==============================] - 219s 595ms/step - loss: 0.1963 - accuracy: 0.9325 - val_loss: 0.2235 - val_accuracy: 0.9107 - lr: 0.0010\n",
            "Epoch 4/50\n",
            "368/367 [==============================] - ETA: 0s - loss: 0.1580 - accuracy: 0.9423\n",
            "Epoch 4: val_loss improved from 0.20515 to 0.16658, saving model to inception.fold_5.hdf5\n",
            "367/367 [==============================] - 234s 637ms/step - loss: 0.1580 - accuracy: 0.9423 - val_loss: 0.1666 - val_accuracy: 0.9390 - lr: 1.0000e-04\n",
            "Epoch 5/50\n",
            "368/367 [==============================] - ETA: 0s - loss: 0.1325 - accuracy: 0.9575\n",
            "Epoch 5: val_loss improved from 0.16658 to 0.13960, saving model to inception.fold_5.hdf5\n",
            "367/367 [==============================] - 220s 599ms/step - loss: 0.1325 - accuracy: 0.9575 - val_loss: 0.1396 - val_accuracy: 0.9521 - lr: 1.0000e-04\n",
            "Epoch 6/50\n",
            " 92/367 [======>.......................] - ETA: 2:24 - loss: 0.1408 - accuracy: 0.9457"
          ]
        }
      ]
    }
  ]
}